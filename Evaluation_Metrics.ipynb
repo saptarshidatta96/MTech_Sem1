{
  "nbformat": 4,
  "nbformat_minor": 0,
  "metadata": {
    "colab": {
      "name": "Evaluation Metrics.ipynb",
      "provenance": [],
      "collapsed_sections": [],
      "authorship_tag": "ABX9TyNluUvoPMuBoVjR/FlqkCNY",
      "include_colab_link": true
    },
    "kernelspec": {
      "name": "python3",
      "display_name": "Python 3"
    }
  },
  "cells": [
    {
      "cell_type": "markdown",
      "metadata": {
        "id": "view-in-github",
        "colab_type": "text"
      },
      "source": [
        "<a href=\"https://colab.research.google.com/github/saptarshidatta96/MTech_Sem1/blob/main/Evaluation_Metrics.ipynb\" target=\"_parent\"><img src=\"https://colab.research.google.com/assets/colab-badge.svg\" alt=\"Open In Colab\"/></a>"
      ]
    },
    {
      "cell_type": "code",
      "metadata": {
        "id": "XlvnqSeDRFDa"
      },
      "source": [
        "import numpy as np\n",
        "import pandas as pd\n",
        "from sklearn.metrics import confusion_matrix\n",
        "from sklearn.metrics import classification_report"
      ],
      "execution_count": null,
      "outputs": []
    },
    {
      "cell_type": "code",
      "metadata": {
        "colab": {
          "base_uri": "https://localhost:8080/"
        },
        "id": "hUIKWP3dAroO",
        "outputId": "463d983f-77d2-4206-c3cc-f75b980fa5d9"
      },
      "source": [
        "data = pd.read_csv('/content/dataset.csv')\n",
        "print(data.shape)"
      ],
      "execution_count": null,
      "outputs": [
        {
          "output_type": "stream",
          "text": [
            "(160, 2)\n"
          ],
          "name": "stdout"
        }
      ]
    },
    {
      "cell_type": "code",
      "metadata": {
        "colab": {
          "base_uri": "https://localhost:8080/",
          "height": 204
        },
        "id": "Q7FXoXLSBuBV",
        "outputId": "2a6392cb-2618-418e-f50a-abe24dc0d8cd"
      },
      "source": [
        "data.head()"
      ],
      "execution_count": null,
      "outputs": [
        {
          "output_type": "execute_result",
          "data": {
            "text/html": [
              "<div>\n",
              "<style scoped>\n",
              "    .dataframe tbody tr th:only-of-type {\n",
              "        vertical-align: middle;\n",
              "    }\n",
              "\n",
              "    .dataframe tbody tr th {\n",
              "        vertical-align: top;\n",
              "    }\n",
              "\n",
              "    .dataframe thead th {\n",
              "        text-align: right;\n",
              "    }\n",
              "</style>\n",
              "<table border=\"1\" class=\"dataframe\">\n",
              "  <thead>\n",
              "    <tr style=\"text-align: right;\">\n",
              "      <th></th>\n",
              "      <th>Predicted Class</th>\n",
              "      <th>Actual Class</th>\n",
              "    </tr>\n",
              "  </thead>\n",
              "  <tbody>\n",
              "    <tr>\n",
              "      <th>0</th>\n",
              "      <td>0</td>\n",
              "      <td>0</td>\n",
              "    </tr>\n",
              "    <tr>\n",
              "      <th>1</th>\n",
              "      <td>0</td>\n",
              "      <td>0</td>\n",
              "    </tr>\n",
              "    <tr>\n",
              "      <th>2</th>\n",
              "      <td>1</td>\n",
              "      <td>0</td>\n",
              "    </tr>\n",
              "    <tr>\n",
              "      <th>3</th>\n",
              "      <td>0</td>\n",
              "      <td>0</td>\n",
              "    </tr>\n",
              "    <tr>\n",
              "      <th>4</th>\n",
              "      <td>0</td>\n",
              "      <td>0</td>\n",
              "    </tr>\n",
              "  </tbody>\n",
              "</table>\n",
              "</div>"
            ],
            "text/plain": [
              "   Predicted Class  Actual Class\n",
              "0                0             0\n",
              "1                0             0\n",
              "2                1             0\n",
              "3                0             0\n",
              "4                0             0"
            ]
          },
          "metadata": {
            "tags": []
          },
          "execution_count": 5
        }
      ]
    },
    {
      "cell_type": "code",
      "metadata": {
        "colab": {
          "base_uri": "https://localhost:8080/"
        },
        "id": "zFhT73BmKvaY",
        "outputId": "86534420-b92d-4867-f46f-e38efb6f7544"
      },
      "source": [
        "data['Predicted Class'].unique()"
      ],
      "execution_count": null,
      "outputs": [
        {
          "output_type": "execute_result",
          "data": {
            "text/plain": [
              "array([0, 1, 2, 3])"
            ]
          },
          "metadata": {
            "tags": []
          },
          "execution_count": 39
        }
      ]
    },
    {
      "cell_type": "code",
      "metadata": {
        "colab": {
          "base_uri": "https://localhost:8080/"
        },
        "id": "KQubGvtAK1zf",
        "outputId": "f6efb97c-ccb1-4f27-8067-8f24b9270a99"
      },
      "source": [
        "data['Actual Class'].unique()"
      ],
      "execution_count": null,
      "outputs": [
        {
          "output_type": "execute_result",
          "data": {
            "text/plain": [
              "array([0, 1, 2, 3])"
            ]
          },
          "metadata": {
            "tags": []
          },
          "execution_count": 40
        }
      ]
    },
    {
      "cell_type": "code",
      "metadata": {
        "colab": {
          "base_uri": "https://localhost:8080/"
        },
        "id": "D8ehXMVm4ob-",
        "outputId": "0608ad00-18d6-4a0b-bf01-bd59e325d320"
      },
      "source": [
        "data.shape[0]"
      ],
      "execution_count": null,
      "outputs": [
        {
          "output_type": "execute_result",
          "data": {
            "text/plain": [
              "160"
            ]
          },
          "metadata": {
            "tags": []
          },
          "execution_count": 6
        }
      ]
    },
    {
      "cell_type": "markdown",
      "metadata": {
        "id": "l6uCcniXvVnJ"
      },
      "source": [
        "##Confusion Matrix"
      ]
    },
    {
      "cell_type": "code",
      "metadata": {
        "colab": {
          "base_uri": "https://localhost:8080/"
        },
        "id": "WT80OW6WFn14",
        "outputId": "b59fc9e8-cfdf-4ed0-eaba-a53cc2fe57c7"
      },
      "source": [
        "df_confusion = data.pivot_table(index=data['Actual Class'], columns=data['Predicted Class'], aggfunc=len).fillna(0).astype('int')\n",
        "print(df_confusion)"
      ],
      "execution_count": null,
      "outputs": [
        {
          "output_type": "stream",
          "text": [
            "Predicted Class   0   1   2   3\n",
            "Actual Class                   \n",
            "0                33   8   4   4\n",
            "1                 1  32   3   0\n",
            "2                 3   2  29   6\n",
            "3                 2   3   3  27\n"
          ],
          "name": "stdout"
        }
      ]
    },
    {
      "cell_type": "markdown",
      "metadata": {
        "id": "Jn1hPVCPPoO0"
      },
      "source": [
        "## Overall Accuracy"
      ]
    },
    {
      "cell_type": "code",
      "metadata": {
        "id": "Pjr_MJ_Dwmin"
      },
      "source": [
        "def overall_accuracy(df_confusion):\n",
        "  sum_diag = 0\n",
        "  for i in range(len(df_confusion)):\n",
        "    sum_diag = df_confusion[i][i] + sum_diag\n",
        "  overall_acc = sum_diag/ data.shape[0]\n",
        "  #print(overall_acc)\n",
        "  return overall_acc"
      ],
      "execution_count": null,
      "outputs": []
    },
    {
      "cell_type": "markdown",
      "metadata": {
        "id": "vSzhTpM0SSEQ"
      },
      "source": [
        "## Class wise accuracy"
      ]
    },
    {
      "cell_type": "code",
      "metadata": {
        "colab": {
          "base_uri": "https://localhost:8080/"
        },
        "id": "DQFTzPhcDopM",
        "outputId": "c86c71f1-e57d-4b9a-9d37-fb772d40fb11"
      },
      "source": [
        "len(data['Predicted Class'].unique())"
      ],
      "execution_count": null,
      "outputs": [
        {
          "output_type": "execute_result",
          "data": {
            "text/plain": [
              "4"
            ]
          },
          "metadata": {
            "tags": []
          },
          "execution_count": 9
        }
      ]
    },
    {
      "cell_type": "code",
      "metadata": {
        "id": "7CnGLIx6x2KA"
      },
      "source": [
        "def class_accuracy(class_name, df_confusion):\n",
        "  sum = 0\n",
        "  for i in range(len(df_confusion)):\n",
        "    sum = df_confusion[i][class_name] + sum\n",
        "  \n",
        "  class_acc = df_confusion[class_name][class_name]/sum\n",
        "  #print('class[{}], accuracy:{:.4f}' .format(class_name, class_acc))\n",
        "  return class_acc\n"
      ],
      "execution_count": null,
      "outputs": []
    },
    {
      "cell_type": "markdown",
      "metadata": {
        "id": "gf8ok1oKrP38"
      },
      "source": [
        "##Confusion Metrics"
      ]
    },
    {
      "cell_type": "code",
      "metadata": {
        "id": "JV--RbWwrTPk"
      },
      "source": [
        "def confusion_metrics(class_name, df_confusion):\n",
        "  TN = 0\n",
        "  FP = 0\n",
        "  FN = 0\n",
        "  TP = df_confusion[class_name][class_name]\n",
        "  for i in range(len(df_confusion)):\n",
        "    if i != class_name:\n",
        "      TN = (np.sum(df_confusion[i]) + TN) - df_confusion[i][class_name]\n",
        "      FP = df_confusion[class_name][i] + FP\n",
        "      FN = df_confusion[i][class_name] + FN\n",
        "\n",
        "\n",
        "  #print('True positive is {:.4f} for Class-->[{}]'.format(TP, class_name))\n",
        "  #print('True Negative is {:.4f} for Class-->[{}]'.format(TN, class_name))\n",
        "  #print('False Positive is {:.4f} for Class-->[{}]'.format(FP, class_name))\n",
        "  #print('False Negative is {:.4f} for Class-->[{}]'.format(FN, class_name))\n",
        "\n",
        "  return TP, TN, FP, FN"
      ],
      "execution_count": null,
      "outputs": []
    },
    {
      "cell_type": "markdown",
      "metadata": {
        "id": "p_69sN-K8Ex3"
      },
      "source": [
        "##Calculate Precision, Recall"
      ]
    },
    {
      "cell_type": "code",
      "metadata": {
        "id": "QJ-PYxcf8DdT"
      },
      "source": [
        "def calc_precision_recall(class_name):\n",
        "  TP, TN, FP, FN = confusion_metrics(class_name, df_confusion)\n",
        "  precision = TP/(TP+FP)\n",
        "  recall = TP/(TP+FN)\n",
        "  F_score = (2*precision*recall)/(precision + recall)\n",
        "\n",
        "  #print('Precision is {:.4f} for class--> [{}]'.format(precision, class_name))\n",
        "  #print('Recall is {:.4f} for class--> [{}]'.format(recall, class_name))\n",
        "  #print('F-Score is {:.4f} for class--> [{}]'.format(F_score, class_name))\n",
        "\n",
        "  return precision, recall, F_score\n"
      ],
      "execution_count": null,
      "outputs": []
    },
    {
      "cell_type": "markdown",
      "metadata": {
        "id": "JrVkN5rzuH5j"
      },
      "source": [
        "##Calculate Type-I and Type-II Error"
      ]
    },
    {
      "cell_type": "code",
      "metadata": {
        "id": "K8sOStXO-_aJ"
      },
      "source": [
        "def calc_type1_type2(class_name):\n",
        "  TP, TN, FP, FN = confusion_metrics(class_name, df_confusion)\n",
        "  type1 = FP/(TN+FP)\n",
        "  type2 = FN/(FN+TP)\n",
        "\n",
        "  #print('Type-I error is {:.4f} for class--> [{}]'.format(type1, class_name))\n",
        "  #print('Type-II error is {:.4f} for class--> [{}]'.format(type2, class_name))\n",
        "\n",
        "  return type1, type2\n"
      ],
      "execution_count": null,
      "outputs": []
    },
    {
      "cell_type": "markdown",
      "metadata": {
        "id": "RpGO8HsAuUX3"
      },
      "source": [
        "##Calculate Macro and Weighted Average"
      ]
    },
    {
      "cell_type": "code",
      "metadata": {
        "id": "3_tjWE2VR8OY"
      },
      "source": [
        "def macro_weighted_avg(df_confusion):\n",
        "  history = []\n",
        "  sum_list = []\n",
        "  sum = 0\n",
        "  for j in range(len(data['Predicted Class'].unique())):\n",
        "    sum = 0\n",
        "    for i in range(len(df_confusion)):\n",
        "      sum = df_confusion[i][j] + sum\n",
        "      history.append(calc_precision_recall(i))\n",
        "    sum_list.append(sum)\n",
        "\n",
        "  weighted_avg_prec = 0\n",
        "  weighted_avg_recall = 0\n",
        "  for i in range(len(sum_list)):\n",
        "    weighted_avg_prec = sum_list[i]*history[i][0] + weighted_avg_prec\n",
        "    weighted_avg_recall = sum_list[i]*history[i][1] + weighted_avg_recall\n",
        "  weighted_avg_prec = weighted_avg_prec / (np.sum(sum_list))\n",
        "  weighted_avg_recall = weighted_avg_recall / (np.sum(sum_list))\n",
        "\n",
        "  macro_avg_prec = 0\n",
        "  macro_avg_recall = 0\n",
        "  for i in range(len(history)):\n",
        "    macro_avg_prec = history[i][0] + macro_avg_prec\n",
        "    macro_avg_recall = history[i][0] + macro_avg_recall\n",
        "  macro_avg_prec = macro_avg_prec / len(history)\n",
        "  macro_avg_recall = macro_avg_recall / len(history)\n",
        "\n",
        "  return weighted_avg_prec, weighted_avg_recall, macro_avg_prec, macro_avg_recall"
      ],
      "execution_count": null,
      "outputs": []
    },
    {
      "cell_type": "markdown",
      "metadata": {
        "id": "UGyC2TNIubjZ"
      },
      "source": [
        "##Calculate all the Classification Metrices and print the results."
      ]
    },
    {
      "cell_type": "code",
      "metadata": {
        "id": "gzxDiTs24MVP"
      },
      "source": [
        "def classification_metrics(class_name, df_confusion):\n",
        "  overall_acc = overall_accuracy(df_confusion)\n",
        "  class_acc = class_accuracy(class_name, df_confusion)\n",
        "  TP, TN, FP, FN = confusion_metrics(class_name, df_confusion)\n",
        "  precision, recall, F_score = calc_precision_recall(class_name)\n",
        "  type1, type2 = calc_type1_type2(class_name)\n",
        "  weighted_avg_prec, weighted_avg_recall, macro_avg_prec, macro_avg_recall = macro_weighted_avg(df_confusion)\n",
        "  print('---------------------------------------')\n",
        "  print('Overall Accuracy is : ',overall_acc)\n",
        "  print('Weighted Average Precision : {:.4f}'.format(weighted_avg_prec))\n",
        "  print('Weighted Average Recall : {:.4f}'.format(weighted_avg_recall))\n",
        "  print('Macro Average Precision : {:.4f}'.format(macro_avg_prec))\n",
        "  print('Macro Average Recall : {:.4f}'.format(macro_avg_recall))\n",
        "  print('---------------------------------------')\n",
        "  print('**Metrics for class {} are as below**'.format(class_name))\n",
        "  print('---------------------------------------')\n",
        "  print('Accuracy : {:.4f}' .format(class_acc))\n",
        "  print('True positive : {:.4f} '.format(TP))\n",
        "  print('True Negative : {:.4f} '.format(TN))\n",
        "  print('False Positive : {:.4f} '.format(FP))\n",
        "  print('False Negative : {:.4f} '.format(FN))\n",
        "  print('Precision : {:.4f} '.format(precision))\n",
        "  print('Recall : {:.4f}' .format(recall))\n",
        "  print('F-Score : {:.4f}'.format(F_score))\n",
        "  print('Type-I error : {:.4f}'.format(type1))\n",
        "  print('Type-II error : {:.4f}'.format(type2))\n",
        "  print('---------------------------------------')\n",
        "\n"
      ],
      "execution_count": null,
      "outputs": []
    },
    {
      "cell_type": "code",
      "metadata": {
        "colab": {
          "base_uri": "https://localhost:8080/"
        },
        "id": "s8Jtui6Q7jIg",
        "outputId": "f6ff446d-1250-44cd-cdd8-d111972caa7e"
      },
      "source": [
        "classification_metrics(0, df_confusion)"
      ],
      "execution_count": null,
      "outputs": [
        {
          "output_type": "stream",
          "text": [
            "---------------------------------------\n",
            "Overall Accuracy is :  0.75625\n",
            "Weighted Average Precision : 0.7647\n",
            "Weighted Average Recall : 0.7562\n",
            "Macro Average Precision : 0.7576\n",
            "Macro Average Recall : 0.7576\n",
            "---------------------------------------\n",
            "**Metrics for class 0 are as below**\n",
            "---------------------------------------\n",
            "Accuracy : 0.6735\n",
            "True positive : 33.0000 \n",
            "True Negative : 105.0000 \n",
            "False Positive : 6.0000 \n",
            "False Negative : 16.0000 \n",
            "Precision : 0.8462 \n",
            "Recall : 0.6735\n",
            "F-Score : 0.7500\n",
            "Type-I error : 0.0541\n",
            "Type-II error : 0.3265\n",
            "---------------------------------------\n"
          ],
          "name": "stdout"
        }
      ]
    },
    {
      "cell_type": "code",
      "metadata": {
        "colab": {
          "base_uri": "https://localhost:8080/"
        },
        "id": "IoRbe7EC8oA-",
        "outputId": "6c7d6836-2f42-4856-eed8-60dbf6e0de18"
      },
      "source": [
        "classification_metrics(1, df_confusion)"
      ],
      "execution_count": null,
      "outputs": [
        {
          "output_type": "stream",
          "text": [
            "---------------------------------------\n",
            "Overall Accuracy is :  0.75625\n",
            "Weighted Average Precision : 0.7647\n",
            "Weighted Average Recall : 0.7562\n",
            "Macro Average Precision : 0.7576\n",
            "Macro Average Recall : 0.7576\n",
            "---------------------------------------\n",
            "**Metrics for class 1 are as below**\n",
            "---------------------------------------\n",
            "Accuracy : 0.8889\n",
            "True positive : 32.0000 \n",
            "True Negative : 111.0000 \n",
            "False Positive : 13.0000 \n",
            "False Negative : 4.0000 \n",
            "Precision : 0.7111 \n",
            "Recall : 0.8889\n",
            "F-Score : 0.7901\n",
            "Type-I error : 0.1048\n",
            "Type-II error : 0.1111\n",
            "---------------------------------------\n"
          ],
          "name": "stdout"
        }
      ]
    },
    {
      "cell_type": "code",
      "metadata": {
        "colab": {
          "base_uri": "https://localhost:8080/"
        },
        "id": "PjFN2Cs68sQE",
        "outputId": "f6b07a46-a1e6-44ad-8a42-9849cf4f713a"
      },
      "source": [
        "classification_metrics(2, df_confusion)"
      ],
      "execution_count": null,
      "outputs": [
        {
          "output_type": "stream",
          "text": [
            "---------------------------------------\n",
            "Overall Accuracy is :  0.75625\n",
            "Weighted Average Precision : 0.7647\n",
            "Weighted Average Recall : 0.7562\n",
            "Macro Average Precision : 0.7576\n",
            "Macro Average Recall : 0.7576\n",
            "---------------------------------------\n",
            "**Metrics for class 2 are as below**\n",
            "---------------------------------------\n",
            "Accuracy : 0.7250\n",
            "True positive : 29.0000 \n",
            "True Negative : 110.0000 \n",
            "False Positive : 10.0000 \n",
            "False Negative : 11.0000 \n",
            "Precision : 0.7436 \n",
            "Recall : 0.7250\n",
            "F-Score : 0.7342\n",
            "Type-I error : 0.0833\n",
            "Type-II error : 0.2750\n",
            "---------------------------------------\n"
          ],
          "name": "stdout"
        }
      ]
    },
    {
      "cell_type": "code",
      "metadata": {
        "colab": {
          "base_uri": "https://localhost:8080/"
        },
        "id": "-vwIk0Y18vr1",
        "outputId": "c2e8b112-9af0-4d39-980a-e7e6ac612df5"
      },
      "source": [
        "classification_metrics(3, df_confusion)"
      ],
      "execution_count": null,
      "outputs": [
        {
          "output_type": "stream",
          "text": [
            "---------------------------------------\n",
            "Overall Accuracy is :  0.75625\n",
            "Weighted Average Precision : 0.7647\n",
            "Weighted Average Recall : 0.7562\n",
            "Macro Average Precision : 0.7576\n",
            "Macro Average Recall : 0.7576\n",
            "---------------------------------------\n",
            "**Metrics for class 3 are as below**\n",
            "---------------------------------------\n",
            "Accuracy : 0.7714\n",
            "True positive : 27.0000 \n",
            "True Negative : 115.0000 \n",
            "False Positive : 10.0000 \n",
            "False Negative : 8.0000 \n",
            "Precision : 0.7297 \n",
            "Recall : 0.7714\n",
            "F-Score : 0.7500\n",
            "Type-I error : 0.0800\n",
            "Type-II error : 0.2286\n",
            "---------------------------------------\n"
          ],
          "name": "stdout"
        }
      ]
    },
    {
      "cell_type": "markdown",
      "metadata": {
        "id": "JhxcE046Amog"
      },
      "source": [
        "## Confusion Matrix/ Metrics using sk-learn"
      ]
    },
    {
      "cell_type": "code",
      "metadata": {
        "colab": {
          "base_uri": "https://localhost:8080/"
        },
        "id": "-BCoDHicAmE5",
        "outputId": "8e0ce186-ef49-4cfd-866e-2d39b50ea7bd"
      },
      "source": [
        "confusion_mtx = confusion_matrix(data['Actual Class'], data['Predicted Class']) \n",
        "print(confusion_mtx)"
      ],
      "execution_count": null,
      "outputs": [
        {
          "output_type": "stream",
          "text": [
            "[[33  8  4  4]\n",
            " [ 1 32  3  0]\n",
            " [ 3  2 29  6]\n",
            " [ 2  3  3 27]]\n"
          ],
          "name": "stdout"
        }
      ]
    },
    {
      "cell_type": "code",
      "metadata": {
        "colab": {
          "base_uri": "https://localhost:8080/"
        },
        "id": "pPSfmD4_A9GX",
        "outputId": "f8441a44-f1a1-41f7-f166-005173f4c9f1"
      },
      "source": [
        "print(classification_report(data['Actual Class'], data['Predicted Class']))"
      ],
      "execution_count": null,
      "outputs": [
        {
          "output_type": "stream",
          "text": [
            "              precision    recall  f1-score   support\n",
            "\n",
            "           0       0.85      0.67      0.75        49\n",
            "           1       0.71      0.89      0.79        36\n",
            "           2       0.74      0.72      0.73        40\n",
            "           3       0.73      0.77      0.75        35\n",
            "\n",
            "    accuracy                           0.76       160\n",
            "   macro avg       0.76      0.76      0.76       160\n",
            "weighted avg       0.76      0.76      0.76       160\n",
            "\n"
          ],
          "name": "stdout"
        }
      ]
    },
    {
      "cell_type": "markdown",
      "metadata": {
        "id": "HGzKJQ3YpddG"
      },
      "source": [
        "##Hamming Loss"
      ]
    },
    {
      "cell_type": "code",
      "metadata": {
        "colab": {
          "base_uri": "https://localhost:8080/"
        },
        "id": "JhvMvTclI7iC",
        "outputId": "01fb8e87-9fce-43d7-c38b-2943dda2dedd"
      },
      "source": [
        "from sklearn.metrics import hamming_loss\n",
        "hamming_loss(data['Actual Class'], data['Predicted Class'])"
      ],
      "execution_count": null,
      "outputs": [
        {
          "output_type": "execute_result",
          "data": {
            "text/plain": [
              "0.24375"
            ]
          },
          "metadata": {
            "tags": []
          },
          "execution_count": 42
        }
      ]
    },
    {
      "cell_type": "markdown",
      "metadata": {
        "id": "f8_w8dixphUx"
      },
      "source": [
        "##Matthews Correlation Coefficient"
      ]
    },
    {
      "cell_type": "code",
      "metadata": {
        "colab": {
          "base_uri": "https://localhost:8080/"
        },
        "id": "Ot8pqj3MLwXA",
        "outputId": "ced73521-119f-4dea-9381-493f261572c1"
      },
      "source": [
        "from sklearn.metrics import matthews_corrcoef\n",
        "matthews_corrcoef(data['Actual Class'], data['Predicted Class'])"
      ],
      "execution_count": null,
      "outputs": [
        {
          "output_type": "execute_result",
          "data": {
            "text/plain": [
              "0.6785227135925035"
            ]
          },
          "metadata": {
            "tags": []
          },
          "execution_count": 43
        }
      ]
    },
    {
      "cell_type": "markdown",
      "metadata": {
        "id": "5pCR2YIopnZJ"
      },
      "source": [
        "##Zero-one Loss"
      ]
    },
    {
      "cell_type": "code",
      "metadata": {
        "colab": {
          "base_uri": "https://localhost:8080/"
        },
        "id": "CoVwlzLJT5m3",
        "outputId": "9803a0f9-6437-4668-8ad8-cabd2c4a033c"
      },
      "source": [
        "from sklearn.metrics import zero_one_loss\n",
        "zero_one_loss(data['Actual Class'], data['Predicted Class'], normalize = False)"
      ],
      "execution_count": null,
      "outputs": [
        {
          "output_type": "execute_result",
          "data": {
            "text/plain": [
              "39"
            ]
          },
          "metadata": {
            "tags": []
          },
          "execution_count": 45
        }
      ]
    }
  ]
}