{
  "nbformat": 4,
  "nbformat_minor": 0,
  "metadata": {
    "colab": {
      "name": "NB Classifier on Wine dataset.ipynb",
      "provenance": [],
      "collapsed_sections": [],
      "authorship_tag": "ABX9TyOoDZTw86hr5T+pUvjVu0ML",
      "include_colab_link": true
    },
    "kernelspec": {
      "name": "python3",
      "display_name": "Python 3"
    },
    "language_info": {
      "name": "python"
    }
  },
  "cells": [
    {
      "cell_type": "markdown",
      "metadata": {
        "id": "view-in-github",
        "colab_type": "text"
      },
      "source": [
        "<a href=\"https://colab.research.google.com/github/saptarshidatta96/MTech_Sem1/blob/main/NB_Classifier_on_Wine_dataset.ipynb\" target=\"_parent\"><img src=\"https://colab.research.google.com/assets/colab-badge.svg\" alt=\"Open In Colab\"/></a>"
      ]
    },
    {
      "cell_type": "code",
      "metadata": {
        "id": "NNCCkrdXrtdz"
      },
      "source": [
        "import numpy as np\n",
        "import pandas as pd\n",
        "from sklearn.metrics import confusion_matrix\n",
        "from sklearn.metrics import classification_report, roc_curve\n",
        "from math import sqrt\n",
        "from math import pi\n",
        "from math import exp\n",
        "from sklearn import preprocessing \n",
        "from sklearn.model_selection import StratifiedShuffleSplit\n",
        "from sklearn import datasets\n",
        "from itertools import cycle\n",
        "import matplotlib.pyplot as plt\n",
        "import seaborn as sns\n",
        "from sklearn.naive_bayes import GaussianNB\n",
        "%matplotlib inline"
      ],
      "execution_count": null,
      "outputs": []
    },
    {
      "cell_type": "markdown",
      "metadata": {
        "id": "lYC-lqBQNhk6"
      },
      "source": [
        "##Importing the Wine Dataset"
      ]
    },
    {
      "cell_type": "code",
      "metadata": {
        "id": "EmXV3yMxsUwi"
      },
      "source": [
        "wine = datasets.load_wine()\n",
        "X = wine.data\n",
        "y = wine.target"
      ],
      "execution_count": null,
      "outputs": []
    },
    {
      "cell_type": "code",
      "metadata": {
        "id": "a9ZgYd-uVZGv"
      },
      "source": [
        "data = pd.DataFrame(data= np.c_[wine['data'], wine['target']],\n",
        "                     columns= wine['feature_names'] + ['target'])"
      ],
      "execution_count": null,
      "outputs": []
    },
    {
      "cell_type": "code",
      "metadata": {
        "colab": {
          "base_uri": "https://localhost:8080/",
          "height": 224
        },
        "id": "-NYBM-4jVixx",
        "outputId": "02eb64bc-5f4d-4269-ed82-87fc151a3fe1"
      },
      "source": [
        "data.head()"
      ],
      "execution_count": null,
      "outputs": [
        {
          "output_type": "execute_result",
          "data": {
            "text/html": [
              "<div>\n",
              "<style scoped>\n",
              "    .dataframe tbody tr th:only-of-type {\n",
              "        vertical-align: middle;\n",
              "    }\n",
              "\n",
              "    .dataframe tbody tr th {\n",
              "        vertical-align: top;\n",
              "    }\n",
              "\n",
              "    .dataframe thead th {\n",
              "        text-align: right;\n",
              "    }\n",
              "</style>\n",
              "<table border=\"1\" class=\"dataframe\">\n",
              "  <thead>\n",
              "    <tr style=\"text-align: right;\">\n",
              "      <th></th>\n",
              "      <th>alcohol</th>\n",
              "      <th>malic_acid</th>\n",
              "      <th>ash</th>\n",
              "      <th>alcalinity_of_ash</th>\n",
              "      <th>magnesium</th>\n",
              "      <th>total_phenols</th>\n",
              "      <th>flavanoids</th>\n",
              "      <th>nonflavanoid_phenols</th>\n",
              "      <th>proanthocyanins</th>\n",
              "      <th>color_intensity</th>\n",
              "      <th>hue</th>\n",
              "      <th>od280/od315_of_diluted_wines</th>\n",
              "      <th>proline</th>\n",
              "      <th>target</th>\n",
              "    </tr>\n",
              "  </thead>\n",
              "  <tbody>\n",
              "    <tr>\n",
              "      <th>0</th>\n",
              "      <td>14.23</td>\n",
              "      <td>1.71</td>\n",
              "      <td>2.43</td>\n",
              "      <td>15.6</td>\n",
              "      <td>127.0</td>\n",
              "      <td>2.80</td>\n",
              "      <td>3.06</td>\n",
              "      <td>0.28</td>\n",
              "      <td>2.29</td>\n",
              "      <td>5.64</td>\n",
              "      <td>1.04</td>\n",
              "      <td>3.92</td>\n",
              "      <td>1065.0</td>\n",
              "      <td>0.0</td>\n",
              "    </tr>\n",
              "    <tr>\n",
              "      <th>1</th>\n",
              "      <td>13.20</td>\n",
              "      <td>1.78</td>\n",
              "      <td>2.14</td>\n",
              "      <td>11.2</td>\n",
              "      <td>100.0</td>\n",
              "      <td>2.65</td>\n",
              "      <td>2.76</td>\n",
              "      <td>0.26</td>\n",
              "      <td>1.28</td>\n",
              "      <td>4.38</td>\n",
              "      <td>1.05</td>\n",
              "      <td>3.40</td>\n",
              "      <td>1050.0</td>\n",
              "      <td>0.0</td>\n",
              "    </tr>\n",
              "    <tr>\n",
              "      <th>2</th>\n",
              "      <td>13.16</td>\n",
              "      <td>2.36</td>\n",
              "      <td>2.67</td>\n",
              "      <td>18.6</td>\n",
              "      <td>101.0</td>\n",
              "      <td>2.80</td>\n",
              "      <td>3.24</td>\n",
              "      <td>0.30</td>\n",
              "      <td>2.81</td>\n",
              "      <td>5.68</td>\n",
              "      <td>1.03</td>\n",
              "      <td>3.17</td>\n",
              "      <td>1185.0</td>\n",
              "      <td>0.0</td>\n",
              "    </tr>\n",
              "    <tr>\n",
              "      <th>3</th>\n",
              "      <td>14.37</td>\n",
              "      <td>1.95</td>\n",
              "      <td>2.50</td>\n",
              "      <td>16.8</td>\n",
              "      <td>113.0</td>\n",
              "      <td>3.85</td>\n",
              "      <td>3.49</td>\n",
              "      <td>0.24</td>\n",
              "      <td>2.18</td>\n",
              "      <td>7.80</td>\n",
              "      <td>0.86</td>\n",
              "      <td>3.45</td>\n",
              "      <td>1480.0</td>\n",
              "      <td>0.0</td>\n",
              "    </tr>\n",
              "    <tr>\n",
              "      <th>4</th>\n",
              "      <td>13.24</td>\n",
              "      <td>2.59</td>\n",
              "      <td>2.87</td>\n",
              "      <td>21.0</td>\n",
              "      <td>118.0</td>\n",
              "      <td>2.80</td>\n",
              "      <td>2.69</td>\n",
              "      <td>0.39</td>\n",
              "      <td>1.82</td>\n",
              "      <td>4.32</td>\n",
              "      <td>1.04</td>\n",
              "      <td>2.93</td>\n",
              "      <td>735.0</td>\n",
              "      <td>0.0</td>\n",
              "    </tr>\n",
              "  </tbody>\n",
              "</table>\n",
              "</div>"
            ],
            "text/plain": [
              "   alcohol  malic_acid   ash  ...  od280/od315_of_diluted_wines  proline  target\n",
              "0    14.23        1.71  2.43  ...                          3.92   1065.0     0.0\n",
              "1    13.20        1.78  2.14  ...                          3.40   1050.0     0.0\n",
              "2    13.16        2.36  2.67  ...                          3.17   1185.0     0.0\n",
              "3    14.37        1.95  2.50  ...                          3.45   1480.0     0.0\n",
              "4    13.24        2.59  2.87  ...                          2.93    735.0     0.0\n",
              "\n",
              "[5 rows x 14 columns]"
            ]
          },
          "metadata": {
            "tags": []
          },
          "execution_count": 4
        }
      ]
    },
    {
      "cell_type": "code",
      "metadata": {
        "colab": {
          "base_uri": "https://localhost:8080/"
        },
        "id": "GbBcjkV-T84P",
        "outputId": "c38cf4a2-1098-439d-d29f-f1ee6fe1f2fb"
      },
      "source": [
        "data.shape"
      ],
      "execution_count": null,
      "outputs": [
        {
          "output_type": "execute_result",
          "data": {
            "text/plain": [
              "(178, 14)"
            ]
          },
          "metadata": {
            "tags": []
          },
          "execution_count": 5
        }
      ]
    },
    {
      "cell_type": "code",
      "metadata": {
        "colab": {
          "base_uri": "https://localhost:8080/"
        },
        "id": "-qWPm_twBVrz",
        "outputId": "f928fba1-8080-4a5f-a51d-90cf913b7a3e"
      },
      "source": [
        "print(X)"
      ],
      "execution_count": null,
      "outputs": [
        {
          "output_type": "stream",
          "text": [
            "[[1.423e+01 1.710e+00 2.430e+00 ... 1.040e+00 3.920e+00 1.065e+03]\n",
            " [1.320e+01 1.780e+00 2.140e+00 ... 1.050e+00 3.400e+00 1.050e+03]\n",
            " [1.316e+01 2.360e+00 2.670e+00 ... 1.030e+00 3.170e+00 1.185e+03]\n",
            " ...\n",
            " [1.327e+01 4.280e+00 2.260e+00 ... 5.900e-01 1.560e+00 8.350e+02]\n",
            " [1.317e+01 2.590e+00 2.370e+00 ... 6.000e-01 1.620e+00 8.400e+02]\n",
            " [1.413e+01 4.100e+00 2.740e+00 ... 6.100e-01 1.600e+00 5.600e+02]]\n"
          ],
          "name": "stdout"
        }
      ]
    },
    {
      "cell_type": "code",
      "metadata": {
        "colab": {
          "base_uri": "https://localhost:8080/"
        },
        "id": "oeJd4FeMCX_J",
        "outputId": "3aa0c8b0-4876-4abb-c566-27854f5ecd8f"
      },
      "source": [
        "print(y)"
      ],
      "execution_count": null,
      "outputs": [
        {
          "output_type": "stream",
          "text": [
            "[0 0 0 0 0 0 0 0 0 0 0 0 0 0 0 0 0 0 0 0 0 0 0 0 0 0 0 0 0 0 0 0 0 0 0 0 0\n",
            " 0 0 0 0 0 0 0 0 0 0 0 0 0 0 0 0 0 0 0 0 0 0 1 1 1 1 1 1 1 1 1 1 1 1 1 1 1\n",
            " 1 1 1 1 1 1 1 1 1 1 1 1 1 1 1 1 1 1 1 1 1 1 1 1 1 1 1 1 1 1 1 1 1 1 1 1 1\n",
            " 1 1 1 1 1 1 1 1 1 1 1 1 1 1 1 1 1 1 1 2 2 2 2 2 2 2 2 2 2 2 2 2 2 2 2 2 2\n",
            " 2 2 2 2 2 2 2 2 2 2 2 2 2 2 2 2 2 2 2 2 2 2 2 2 2 2 2 2 2 2]\n"
          ],
          "name": "stdout"
        }
      ]
    },
    {
      "cell_type": "code",
      "metadata": {
        "colab": {
          "base_uri": "https://localhost:8080/"
        },
        "id": "YwKmIEZyLQQV",
        "outputId": "898a063c-fdea-4ccc-84fd-54d9f797fc7d"
      },
      "source": [
        "sss = StratifiedShuffleSplit(n_splits=1, test_size=0.3, train_size=0.7, random_state=42)\n",
        "sss.get_n_splits(X, y)"
      ],
      "execution_count": null,
      "outputs": [
        {
          "output_type": "execute_result",
          "data": {
            "text/plain": [
              "1"
            ]
          },
          "metadata": {
            "tags": []
          },
          "execution_count": 8
        }
      ]
    },
    {
      "cell_type": "code",
      "metadata": {
        "colab": {
          "base_uri": "https://localhost:8080/"
        },
        "id": "C6T7oTnJP_f1",
        "outputId": "b6d012d0-8d43-4d27-91e6-078eb527a9cb"
      },
      "source": [
        "for train_index, test_index in sss.split(X, y):\n",
        "  print(\"TRAIN:\", train_index, \"TEST:\", test_index)\n",
        "  X_train, X_test = X[train_index], X[test_index]\n",
        "  y_train, y_test = y[train_index], y[test_index]"
      ],
      "execution_count": null,
      "outputs": [
        {
          "output_type": "stream",
          "text": [
            "TRAIN: [ 12  30  36  31 120   8 147 126 140  11  78  79 160  96  53  13  25  95\n",
            " 101  50  71  90 116  74  65 145  85  16 162 125 159 135  45 167 119 122\n",
            "  75  83 148  32  24  33  44  15  26  97 107 154   4 133  43  41   1 171\n",
            "  57 153  77 117  69   9  81  52  88 123  19 137 124  17  49  82  70 139\n",
            "  37   6 172  59 106 104 158 170 174 131  99  89  54   0 127  86  72 141\n",
            " 146 113 111 149   5  29   3 157 109 175 103  73 151  56  63 115  55  91\n",
            " 161  80 150  40 142  47  27  67 110 163  34 168 114 152 136  61] TEST: [  2  64  18   7  38  58 156  87 121 130 118  98 177  94  22 155  76  23\n",
            " 176 169 102 144 138 143  68 164  35  62  14 112  21  66 134  93 100 173\n",
            "  60 129  84  20 132  51  46  48  10  92 128  42 166  39 108 105 165  28]\n"
          ],
          "name": "stdout"
        }
      ]
    },
    {
      "cell_type": "code",
      "metadata": {
        "id": "iwzY3ErHb5wm"
      },
      "source": [
        "train_data = pd.DataFrame(data= np.c_[X_train, y_train],\n",
        "                     columns= wine['feature_names'] + ['target'])"
      ],
      "execution_count": null,
      "outputs": []
    },
    {
      "cell_type": "code",
      "metadata": {
        "id": "Mup6tk1pm9mc"
      },
      "source": [
        "test_data = pd.DataFrame(data= np.c_[X_test, y_test],\n",
        "                     columns= wine['feature_names'] + ['target'])"
      ],
      "execution_count": null,
      "outputs": []
    },
    {
      "cell_type": "code",
      "metadata": {
        "colab": {
          "base_uri": "https://localhost:8080/"
        },
        "id": "3kZ7OSP567yZ",
        "outputId": "f155885c-109e-4879-cb97-efe61da106bd"
      },
      "source": [
        "train_data.shape"
      ],
      "execution_count": null,
      "outputs": [
        {
          "output_type": "execute_result",
          "data": {
            "text/plain": [
              "(124, 14)"
            ]
          },
          "metadata": {
            "tags": []
          },
          "execution_count": 12
        }
      ]
    },
    {
      "cell_type": "code",
      "metadata": {
        "colab": {
          "base_uri": "https://localhost:8080/"
        },
        "id": "hb5EP7Mf4zbY",
        "outputId": "5c7f68d3-fb78-429c-91ef-92a59501dc0f"
      },
      "source": [
        "data.columns"
      ],
      "execution_count": null,
      "outputs": [
        {
          "output_type": "execute_result",
          "data": {
            "text/plain": [
              "Index(['alcohol', 'malic_acid', 'ash', 'alcalinity_of_ash', 'magnesium',\n",
              "       'total_phenols', 'flavanoids', 'nonflavanoid_phenols',\n",
              "       'proanthocyanins', 'color_intensity', 'hue',\n",
              "       'od280/od315_of_diluted_wines', 'proline', 'target'],\n",
              "      dtype='object')"
            ]
          },
          "metadata": {
            "tags": []
          },
          "execution_count": 13
        }
      ]
    },
    {
      "cell_type": "markdown",
      "metadata": {
        "id": "5A06JLkxNNKL"
      },
      "source": [
        "##Distribution of Train Data"
      ]
    },
    {
      "cell_type": "code",
      "metadata": {
        "colab": {
          "base_uri": "https://localhost:8080/",
          "height": 729
        },
        "id": "ywkxnNf3Ew0_",
        "outputId": "c7300db1-2f76-4a67-8b3e-dcb4608b15ed"
      },
      "source": [
        "fig, axs = plt.subplots(figsize = (16,10), nrows = 2, ncols = 7)\n",
        "for j in range(2):\n",
        "    for i in range(7):\n",
        "      if j == 0:\n",
        "        k = i\n",
        "      else:\n",
        "        k = i + 7\n",
        "      axs[j][i].bar(train_data['target'], height = train_data[train_data.columns[k]])\n",
        "      axs[j][i].set_ylabel(train_data.columns[k])\n",
        "      axs[j][i].set_xlabel('Target')\n",
        " \n",
        " \n",
        "plt.tight_layout()"
      ],
      "execution_count": null,
      "outputs": [
        {
          "output_type": "display_data",
          "data": {
            "image/png": "[encoded data removed]",
            "text/plain": [
              "<Figure size 1152x720 with 14 Axes>"
            ]
          },
          "metadata": {
            "tags": [],
            "needs_background": "light"
          }
        }
      ]
    },
    {
      "cell_type": "markdown",
      "metadata": {
        "id": "DK9RqoBuNQk8"
      },
      "source": [
        "##Distribution of Test Data"
      ]
    },
    {
      "cell_type": "code",
      "metadata": {
        "colab": {
          "base_uri": "https://localhost:8080/",
          "height": 729
        },
        "id": "ZZdk4IDP6obZ",
        "outputId": "af086213-12b9-4457-a9c4-fc0be354afae"
      },
      "source": [
        "fig, axs = plt.subplots(figsize = (16,10), nrows = 2, ncols = 7)\n",
        "for j in range(2):\n",
        "    for i in range(7):\n",
        "      if j == 0:\n",
        "        k = i\n",
        "      else:\n",
        "        k = i + 7\n",
        "      axs[j][i].bar(test_data['target'], height = test_data[test_data.columns[k]])\n",
        "      axs[j][i].set_ylabel(test_data.columns[k])\n",
        "      axs[j][i].set_xlabel('Target')\n",
        " \n",
        " \n",
        "plt.tight_layout()\n"
      ],
      "execution_count": null,
      "outputs": [
        {
          "output_type": "display_data",
          "data": {
            "image/png": "[encoded data removed]",
            "text/plain": [
              "<Figure size 1152x720 with 14 Axes>"
            ]
          },
          "metadata": {
            "tags": [],
            "needs_background": "light"
          }
        }
      ]
    },
    {
      "cell_type": "markdown",
      "metadata": {
        "id": "QQboZ0Ek1mFg"
      },
      "source": [
        "##the class priors"
      ]
    },
    {
      "cell_type": "code",
      "metadata": {
        "id": "SKMWDzv3aTGL",
        "colab": {
          "base_uri": "https://localhost:8080/"
        },
        "outputId": "cfffd128-d9b5-48e8-d915-58e92a0b01e1"
      },
      "source": [
        "nb = GaussianNB()\n",
        "y_pred = nb.fit(X_train, y_train).predict(X_test)\n",
        "print(nb.class_prior_)"
      ],
      "execution_count": null,
      "outputs": [
        {
          "output_type": "stream",
          "text": [
            "[0.33064516 0.40322581 0.26612903]\n"
          ],
          "name": "stdout"
        }
      ]
    },
    {
      "cell_type": "code",
      "metadata": {
        "id": "GmHHRkwr7jWv",
        "colab": {
          "base_uri": "https://localhost:8080/"
        },
        "outputId": "8cb769ed-4245-49fd-aede-5332b777ed1f"
      },
      "source": [
        "y_pred"
      ],
      "execution_count": null,
      "outputs": [
        {
          "output_type": "execute_result",
          "data": {
            "text/plain": [
              "array([0, 1, 0, 0, 0, 0, 2, 1, 1, 2, 1, 1, 2, 1, 0, 2, 1, 0, 2, 2, 1, 2,\n",
              "       2, 2, 1, 2, 0, 1, 0, 1, 0, 1, 2, 1, 1, 2, 1, 1, 1, 0, 2, 0, 0, 0,\n",
              "       0, 1, 1, 0, 2, 0, 1, 1, 2, 0])"
            ]
          },
          "metadata": {
            "tags": []
          },
          "execution_count": 17
        }
      ]
    },
    {
      "cell_type": "code",
      "metadata": {
        "id": "-cVqgsL98HCc",
        "colab": {
          "base_uri": "https://localhost:8080/"
        },
        "outputId": "26312ab1-e239-476f-a4a4-e399794d3baf"
      },
      "source": [
        "y_test"
      ],
      "execution_count": null,
      "outputs": [
        {
          "output_type": "execute_result",
          "data": {
            "text/plain": [
              "array([0, 1, 0, 0, 0, 0, 2, 1, 1, 2, 1, 1, 2, 1, 0, 2, 1, 0, 2, 2, 1, 2,\n",
              "       2, 2, 1, 2, 0, 1, 0, 1, 0, 1, 2, 1, 1, 2, 1, 1, 1, 0, 2, 0, 0, 0,\n",
              "       0, 1, 1, 0, 2, 0, 1, 1, 2, 0])"
            ]
          },
          "metadata": {
            "tags": []
          },
          "execution_count": 18
        }
      ]
    },
    {
      "cell_type": "markdown",
      "metadata": {
        "id": "0tdN7hff14hf"
      },
      "source": [
        "##Confusion matrix for Test"
      ]
    },
    {
      "cell_type": "code",
      "metadata": {
        "id": "XpAhSmrG8V6_",
        "colab": {
          "base_uri": "https://localhost:8080/"
        },
        "outputId": "71e0afc2-dc9c-4cbc-a006-6dfa120eeb50"
      },
      "source": [
        "df_confusion = confusion_matrix(y_test, y_pred) \n",
        "print(df_confusion)"
      ],
      "execution_count": null,
      "outputs": [
        {
          "output_type": "stream",
          "text": [
            "[[18  0  0]\n",
            " [ 0 21  0]\n",
            " [ 0  0 15]]\n"
          ],
          "name": "stdout"
        }
      ]
    },
    {
      "cell_type": "markdown",
      "metadata": {
        "id": "7YB91-zP2puf"
      },
      "source": [
        "##Accuracy for Test"
      ]
    },
    {
      "cell_type": "code",
      "metadata": {
        "id": "4In92fuj2o-J"
      },
      "source": [
        "def overall_accuracy(df_confusion, data):\n",
        "  sum_diag = 0\n",
        "  for i in range(len(df_confusion)):\n",
        "    sum_diag = df_confusion[i][i] + sum_diag\n",
        "  overall_acc = sum_diag/ data.shape[0]\n",
        "  #print(overall_acc)\n",
        "  return overall_acc"
      ],
      "execution_count": null,
      "outputs": []
    },
    {
      "cell_type": "code",
      "metadata": {
        "colab": {
          "base_uri": "https://localhost:8080/"
        },
        "id": "d9TfGhDs2uwn",
        "outputId": "ed8799e0-2992-476f-f2b3-a4428a86ae0a"
      },
      "source": [
        "acc_test = overall_accuracy(df_confusion, test_data)\n",
        "acc_test"
      ],
      "execution_count": null,
      "outputs": [
        {
          "output_type": "execute_result",
          "data": {
            "text/plain": [
              "1.0"
            ]
          },
          "metadata": {
            "tags": []
          },
          "execution_count": 21
        }
      ]
    },
    {
      "cell_type": "markdown",
      "metadata": {
        "id": "d1O7S6CZ4QLQ"
      },
      "source": [
        "##Confusion Matrix on Train"
      ]
    },
    {
      "cell_type": "code",
      "metadata": {
        "id": "ySHTBHJo5Asf"
      },
      "source": [
        "nb = GaussianNB()\n",
        "y_pred = nb.fit(X_train, y_train).predict(X_train)"
      ],
      "execution_count": null,
      "outputs": []
    },
    {
      "cell_type": "code",
      "metadata": {
        "colab": {
          "base_uri": "https://localhost:8080/"
        },
        "id": "YMB6wLtY5F8g",
        "outputId": "537316cc-bafa-4275-c5cb-f5c8a6094f69"
      },
      "source": [
        "df_confusion = confusion_matrix(y_train, y_pred) \n",
        "print(df_confusion)"
      ],
      "execution_count": null,
      "outputs": [
        {
          "output_type": "stream",
          "text": [
            "[[39  2  0]\n",
            " [ 0 48  2]\n",
            " [ 0  0 33]]\n"
          ],
          "name": "stdout"
        }
      ]
    },
    {
      "cell_type": "code",
      "metadata": {
        "colab": {
          "base_uri": "https://localhost:8080/"
        },
        "id": "dyDC2SSa5NGJ",
        "outputId": "f4296c07-e80a-4713-d9cc-e7a946a3103b"
      },
      "source": [
        "acc_train = overall_accuracy(df_confusion, train_data)\n",
        "acc_train"
      ],
      "execution_count": null,
      "outputs": [
        {
          "output_type": "execute_result",
          "data": {
            "text/plain": [
              "0.967741935483871"
            ]
          },
          "metadata": {
            "tags": []
          },
          "execution_count": 24
        }
      ]
    },
    {
      "cell_type": "markdown",
      "metadata": {
        "id": "CIZ2egGk0-rQ"
      },
      "source": [
        "## Mean and variance of each feature per class."
      ]
    },
    {
      "cell_type": "code",
      "metadata": {
        "id": "hRk3NrPdy2kq"
      },
      "source": [
        "def split_by_class(data):\n",
        "  splitted_data = dict()\n",
        "  for i in range(len(data)):\n",
        "    for j in range(data.shape[1]-1):\n",
        "      feature = data.iloc[i][j]\n",
        "      class_name = data.iloc[i][data.shape[1]-1]\n",
        "      if class_name not in splitted_data:\n",
        "        splitted_data[class_name] = list()\n",
        "      splitted_data[class_name].append(feature)\n",
        "\n",
        "  return splitted_data\n",
        "\n",
        "\n",
        "def stats_by_class(data):\n",
        "  splitted = split_by_class(data)\n",
        "  splitted_stats = dict()\n",
        "  listt = []\n",
        "  x = data.shape[1] - 1\n",
        "  for key, value in splitted.items():\n",
        "    for i in range(len(splitted[0])):\n",
        "      if key in data['target'].unique():\n",
        "        mean = [np.mean(splitted[key][i : : x]) for i in range(len(splitted[key])//(len(splitted[key])//x))]\n",
        "        variance = [np.var(splitted[key][i : : x]) for i in range(len(splitted[key])//(len(splitted[key])//x))]\n",
        "        length = [len(splitted[key][i : : x]) for i in range(len(splitted[key])//(len(splitted[key])//x))]\n",
        "    splitted_stats[key] = mean, variance, length[0]\n",
        "  return splitted_stats"
      ],
      "execution_count": null,
      "outputs": []
    },
    {
      "cell_type": "code",
      "metadata": {
        "id": "UrVrgNRxzQkx"
      },
      "source": [
        "stats = stats_by_class(train_data)"
      ],
      "execution_count": null,
      "outputs": []
    },
    {
      "cell_type": "code",
      "metadata": {
        "colab": {
          "base_uri": "https://localhost:8080/"
        },
        "id": "DFotIjhTz37p",
        "outputId": "877ee715-e2d6-4f41-981c-f723533919b3"
      },
      "source": [
        "print(stats)"
      ],
      "execution_count": null,
      "outputs": [
        {
          "output_type": "stream",
          "text": [
            "{0.0: ([13.73048780487805, 1.9470731707317073, 2.449756097560976, 17.102439024390247, 106.63414634146342, 2.8285365853658537, 2.940243902439024, 0.3017073170731707, 1.8512195121951225, 5.56780487804878, 1.0509756097560974, 3.0885365853658535, 1112.8048780487804], [0.202950981558596, 0.3957621653777512, 0.060597501487210007, 7.295359904818561, 116.28078524687689, 0.11488078524687684, 0.13762676977989294, 0.005394646044021415, 0.14638631766805474, 1.4830415229030338, 0.012662462819750147, 0.1088661511005354, 39725.66924449732], 41), 1.0: ([12.2424, 1.9626, 2.2328, 20.524, 95.14, 2.2536, 2.0468, 0.35080000000000006, 1.7122, 2.9608, 1.0589199999999999, 2.8021999999999996, 531.26], [0.27004624000000005, 1.1078352399999998, 0.07888416000000001, 10.585423999999998, 347.6004000000001, 0.29721104, 0.36668176, 0.01231936, 0.35924116, 0.7500353599999999, 0.0396851536, 0.22852116, 25756.2324], 50), 2.0: ([13.074545454545454, 3.2009090909090907, 2.4542424242424246, 21.560606060606062, 99.27272727272727, 1.6875757575757577, 0.7875757575757575, 0.4463636363636363, 1.1387878787878787, 7.362727242424242, 0.6730303030303031, 1.6906060606060607, 624.3939393939394], [0.26165509641873297, 0.8791355371900825, 0.031806244260789734, 4.784205693296603, 102.8650137741047, 0.1473941230486685, 0.10233957759412307, 0.014532231404958677, 0.21277428833792472, 5.870189377906365, 0.013972635445362718, 0.08492690541781452, 13563.269054178147], 33)}\n"
          ],
          "name": "stdout"
        }
      ]
    },
    {
      "cell_type": "markdown",
      "metadata": {
        "id": "WPU22Irz5dOY"
      },
      "source": [
        "##Training a Naive Bayes Classifier setting the priors in the ratio 40-40-20"
      ]
    },
    {
      "cell_type": "code",
      "metadata": {
        "id": "CyKVBrGZpgqd"
      },
      "source": [
        "nb = GaussianNB(priors=[0.4, 0.4, 0.2])\n",
        "y_pred1 = nb.fit(X_train, y_train).predict(X_test)"
      ],
      "execution_count": null,
      "outputs": []
    },
    {
      "cell_type": "markdown",
      "metadata": {
        "id": "hqMZc5_D55Bu"
      },
      "source": [
        "##Confusion Matrix on Test"
      ]
    },
    {
      "cell_type": "code",
      "metadata": {
        "colab": {
          "base_uri": "https://localhost:8080/"
        },
        "id": "foG5SxZOpyvb",
        "outputId": "c5d322d9-0500-4683-8950-9d327ff32f51"
      },
      "source": [
        "df_confusion = confusion_matrix(y_test, y_pred1) \n",
        "print(df_confusion)"
      ],
      "execution_count": null,
      "outputs": [
        {
          "output_type": "stream",
          "text": [
            "[[18  0  0]\n",
            " [ 1 20  0]\n",
            " [ 0  0 15]]\n"
          ],
          "name": "stdout"
        }
      ]
    },
    {
      "cell_type": "markdown",
      "metadata": {
        "id": "f364WGs16lGB"
      },
      "source": [
        "##Accuracy of Test"
      ]
    },
    {
      "cell_type": "code",
      "metadata": {
        "colab": {
          "base_uri": "https://localhost:8080/"
        },
        "id": "ke8LQcSA6FR2",
        "outputId": "67645af4-e8f0-4d02-ed5e-68abdb8e1882"
      },
      "source": [
        "acc_test = overall_accuracy(df_confusion, test_data)\n",
        "acc_test"
      ],
      "execution_count": null,
      "outputs": [
        {
          "output_type": "execute_result",
          "data": {
            "text/plain": [
              "0.9814814814814815"
            ]
          },
          "metadata": {
            "tags": []
          },
          "execution_count": 30
        }
      ]
    },
    {
      "cell_type": "markdown",
      "metadata": {
        "id": "J9i8TavK6ol2"
      },
      "source": [
        "##Confusion Matrix on Train"
      ]
    },
    {
      "cell_type": "code",
      "metadata": {
        "id": "9uqPgv8C6xDh"
      },
      "source": [
        "nb = GaussianNB(priors=[0.4, 0.4, 0.2])\n",
        "y_pred2 = nb.fit(X_train, y_train).predict(X_train)"
      ],
      "execution_count": null,
      "outputs": []
    },
    {
      "cell_type": "code",
      "metadata": {
        "colab": {
          "base_uri": "https://localhost:8080/"
        },
        "id": "zxYNgaNF7I9X",
        "outputId": "eb4c26fb-42fb-4776-c7b0-eae86eaa19a5"
      },
      "source": [
        "df_confusion = confusion_matrix(y_train, y_pred2) \n",
        "print(df_confusion)"
      ],
      "execution_count": null,
      "outputs": [
        {
          "output_type": "stream",
          "text": [
            "[[39  2  0]\n",
            " [ 0 48  2]\n",
            " [ 0  0 33]]\n"
          ],
          "name": "stdout"
        }
      ]
    },
    {
      "cell_type": "code",
      "metadata": {
        "colab": {
          "base_uri": "https://localhost:8080/"
        },
        "id": "rWwstkru7Esj",
        "outputId": "b331ef80-2d22-4544-f495-addbadffcb33"
      },
      "source": [
        "acc_train = overall_accuracy(df_confusion, train_data)\n",
        "acc_train"
      ],
      "execution_count": null,
      "outputs": [
        {
          "output_type": "execute_result",
          "data": {
            "text/plain": [
              "0.967741935483871"
            ]
          },
          "metadata": {
            "tags": []
          },
          "execution_count": 33
        }
      ]
    },
    {
      "cell_type": "markdown",
      "metadata": {
        "id": "ME7mBUgu68zg"
      },
      "source": [
        "##Training a Naive Bayes Classifier setting the priors in the ratio 40-40-20"
      ]
    },
    {
      "cell_type": "code",
      "metadata": {
        "id": "JVQ4V3wpqShs"
      },
      "source": [
        "nb = GaussianNB(priors=[0.8, 0.1, 0.1])\n",
        "y_pred = nb.fit(X_train, y_train).predict(X_test)"
      ],
      "execution_count": null,
      "outputs": []
    },
    {
      "cell_type": "markdown",
      "metadata": {
        "id": "O-9qFtlm-Bf-"
      },
      "source": [
        "##Confusion Matrix on Test"
      ]
    },
    {
      "cell_type": "code",
      "metadata": {
        "colab": {
          "base_uri": "https://localhost:8080/"
        },
        "id": "4QfACrGp83oI",
        "outputId": "5fb39ae9-59e7-473e-f0e6-12d67ee4a8fb"
      },
      "source": [
        "df_confusion = confusion_matrix(y_test, y_pred) \n",
        "print(df_confusion)"
      ],
      "execution_count": null,
      "outputs": [
        {
          "output_type": "stream",
          "text": [
            "[[18  0  0]\n",
            " [ 1 20  0]\n",
            " [ 0  0 15]]\n"
          ],
          "name": "stdout"
        }
      ]
    },
    {
      "cell_type": "markdown",
      "metadata": {
        "id": "LoevXTct-Gi-"
      },
      "source": [
        "##Accuracy on Test"
      ]
    },
    {
      "cell_type": "code",
      "metadata": {
        "colab": {
          "base_uri": "https://localhost:8080/"
        },
        "id": "zTYvlrFo8-rm",
        "outputId": "e89f8550-5b92-4051-f364-38497a20bed9"
      },
      "source": [
        "acc_train = overall_accuracy(df_confusion, test_data)\n",
        "acc_train"
      ],
      "execution_count": null,
      "outputs": [
        {
          "output_type": "execute_result",
          "data": {
            "text/plain": [
              "0.9814814814814815"
            ]
          },
          "metadata": {
            "tags": []
          },
          "execution_count": 36
        }
      ]
    },
    {
      "cell_type": "markdown",
      "metadata": {
        "id": "m1Eyzec--Kxf"
      },
      "source": [
        "##Confusion Matrix on Train"
      ]
    },
    {
      "cell_type": "code",
      "metadata": {
        "id": "CWeqU-rw9Gvu"
      },
      "source": [
        "nb = GaussianNB(priors=[0.8, 0.1, 0.1])\n",
        "y_pred3 = nb.fit(X_train, y_train).predict(X_train)"
      ],
      "execution_count": null,
      "outputs": []
    },
    {
      "cell_type": "code",
      "metadata": {
        "colab": {
          "base_uri": "https://localhost:8080/"
        },
        "id": "Yg2lWXJ99OEu",
        "outputId": "2840fe34-2f3a-4534-91b5-5cc09c852fed"
      },
      "source": [
        "df_confusion = confusion_matrix(y_train, y_pred3) \n",
        "print(df_confusion)"
      ],
      "execution_count": null,
      "outputs": [
        {
          "output_type": "stream",
          "text": [
            "[[41  0  0]\n",
            " [ 0 47  3]\n",
            " [ 0  0 33]]\n"
          ],
          "name": "stdout"
        }
      ]
    },
    {
      "cell_type": "markdown",
      "metadata": {
        "id": "AN23Adcj-RO2"
      },
      "source": [
        "##Accuracy on Train"
      ]
    },
    {
      "cell_type": "code",
      "metadata": {
        "colab": {
          "base_uri": "https://localhost:8080/"
        },
        "id": "-qALxyBD9Qg3",
        "outputId": "fa1f013b-e1a3-424d-bc4a-f7fb93a5aeff"
      },
      "source": [
        "acc_train = overall_accuracy(df_confusion, train_data)\n",
        "acc_train"
      ],
      "execution_count": null,
      "outputs": [
        {
          "output_type": "execute_result",
          "data": {
            "text/plain": [
              "0.9758064516129032"
            ]
          },
          "metadata": {
            "tags": []
          },
          "execution_count": 39
        }
      ]
    }
  ]
}