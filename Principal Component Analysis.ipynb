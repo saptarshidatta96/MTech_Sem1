{
  "nbformat": 4,
  "nbformat_minor": 0,
  "metadata": {
    "colab": {
      "name": "M20AIE298_PA1_2.ipynb",
      "provenance": [],
      "collapsed_sections": [],
      "authorship_tag": "ABX9TyMMCBWLWHlXTJFIyXiCl8in",
      "include_colab_link": true
    },
    "kernelspec": {
      "name": "python3",
      "display_name": "Python 3"
    },
    "language_info": {
      "name": "python"
    }
  },
  "cells": [
    {
      "cell_type": "markdown",
      "metadata": {
        "id": "view-in-github",
        "colab_type": "text"
      },
      "source": [
        "<a href=\"https://colab.research.google.com/github/saptarshidatta96/MTech_Sem1/blob/main/Principal%20Component%20Analysis.ipynb\" target=\"_parent\"><img src=\"https://colab.research.google.com/assets/colab-badge.svg\" alt=\"Open In Colab\"/></a>"
      ]
    },
    {
      "cell_type": "code",
      "metadata": {
        "id": "9AEfCZSS4w_b"
      },
      "source": [
        "import pandas as pd\n",
        "import numpy as np\n",
        "import random\n",
        "import matplotlib.pyplot as plt\n",
        "from sklearn.datasets import make_blobs\n",
        "from sklearn.cluster import KMeans\n",
        "from sklearn.metrics import confusion_matrix\n",
        "random.seed(42)\n",
        "%matplotlib inline\n",
        "import random\n",
        "import sys\n",
        "inFile = sys.argv[1]\n",
        "#outFile = sys.argv[2]"
      ],
      "execution_count": null,
      "outputs": []
    },
    {
      "cell_type": "code",
      "metadata": {
        "id": "BRpL6GvQfknR"
      },
      "source": [
        "df = pd.read_csv(inFile, header=None)"
      ],
      "execution_count": null,
      "outputs": []
    },
    {
      "cell_type": "code",
      "metadata": {
        "id": "BIVUuPZOftxg"
      },
      "source": [
        "ground_truth = df.iloc[:,4]\n",
        "data = np.array(df.iloc[:, 0:4]).T"
      ],
      "execution_count": null,
      "outputs": []
    },
    {
      "cell_type": "code",
      "metadata": {
        "id": "qRvFFEQ-ZAEL"
      },
      "source": [
        "def encode_ground_truth(ground_truth):\n",
        "  ground_truth_encoded = []\n",
        "  for i in range(len(ground_truth)):\n",
        "    if ground_truth[i] == 'Iris-setosa':\n",
        "      ground_truth_encoded.append(1)\n",
        "    elif ground_truth[i] == 'Iris-versicolor':\n",
        "      ground_truth_encoded.append(2)\n",
        "    else:\n",
        "      ground_truth_encoded.append(3)\n",
        "\n",
        "  return ground_truth_encoded"
      ],
      "execution_count": null,
      "outputs": []
    },
    {
      "cell_type": "code",
      "metadata": {
        "id": "9R9GIjlEcTlC"
      },
      "source": [
        "def overall_accuracy(cluster):\n",
        "  ground_truth_encoded = encode_ground_truth(ground_truth)\n",
        "  df_confusion = confusion_matrix(ground_truth_encoded, cluster) \n",
        "  #print(df_confusion)\n",
        "  sum_diag = 0\n",
        "  for i in range(len(df_confusion)):\n",
        "    sum_diag = df_confusion[i][i] + sum_diag\n",
        "  overall_acc = sum_diag/ df.shape[0]\n",
        "  print('Accuracy : ', overall_acc)\n",
        "  #return overall_acc"
      ],
      "execution_count": null,
      "outputs": []
    },
    {
      "cell_type": "markdown",
      "metadata": {
        "id": "gcrgAgmVTHVG"
      },
      "source": [
        "Principal Component Analysis"
      ]
    },
    {
      "cell_type": "code",
      "metadata": {
        "id": "fAQ-qWL5dC10"
      },
      "source": [
        "def pca(data, dim):\n",
        "  val, vec = np.linalg.eig(np.matmul(data, data.T))\n",
        "  index_sorted_eig = np.argsort(val)[::-1][:dim]\n",
        "  U = vec[:,index_sorted_eig]\n",
        "\n",
        "  return U"
      ],
      "execution_count": null,
      "outputs": []
    },
    {
      "cell_type": "markdown",
      "metadata": {
        "id": "DgXJoyycTLuM"
      },
      "source": [
        "Spectral Clustering"
      ]
    },
    {
      "cell_type": "code",
      "metadata": {
        "id": "q8M5oPZ_Qe5O"
      },
      "source": [
        "def init_centroids(listt):\n",
        "  initial_centroids = []\n",
        "  for i in random.sample(range(0, len(listt)), 3):\n",
        "    initial_centroids.append(listt[i])\n",
        "  initial_centroids = np.array(initial_centroids)\n",
        "  #print(initial_centroids)\n",
        "\n",
        "  return initial_centroids\n",
        "\n",
        "def K_means(listt, centroids):\n",
        "  assigned_cluster = []\n",
        "  for i in range(len(listt)):\n",
        "    dist1 = (np.sqrt(np.sum((listt[i] - centroids[0])**2)))**2\n",
        "    #print(dist1)\n",
        "    dist2 = (np.sqrt(np.sum((listt[i] - centroids[1])**2)))**2\n",
        "    #print(dist2)\n",
        "    dist3 = (np.sqrt(np.sum((listt[i] - centroids[2])**2)))**2\n",
        "    if dist1 < dist2 and dist1 < dist3:\n",
        "      assigned_cluster.append(1)\n",
        "    elif dist2 < dist1 and dist2 < dist3:\n",
        "      assigned_cluster.append(2)\n",
        "    else:\n",
        "      assigned_cluster.append(3)\n",
        "\n",
        "  return assigned_cluster\n",
        "\n",
        "def update_centroids(listt, predicted_cluster):\n",
        "  initial_centroids = init_centroids(listt)\n",
        "  new_centroids = []\n",
        "  new_data = pd.concat([pd.DataFrame(listt), pd.DataFrame(predicted_cluster, columns=['cluster'])], axis=1)\n",
        "  #print(new_data)\n",
        "  for c in set(new_data['cluster']):\n",
        "    cluster_data = new_data.loc[new_data['cluster'] == c][new_data.columns[:-1]]\n",
        "    #print(cluster_data)\n",
        "    cluster_mean = cluster_data.mean(axis = 0)\n",
        "    #print(cluster_mean)\n",
        "    new_centroids.append(cluster_mean)\n",
        "\n",
        "  return new_centroids\n",
        "\n",
        "def pred_k_means(listt):\n",
        "  initial_centroids = init_centroids(listt)\n",
        "  predicted_cluster = K_means(listt, initial_centroids)\n",
        "  for i in range(50):\n",
        "    new_centroids = update_centroids(listt, predicted_cluster)\n",
        "    predicted_cluster = K_means(listt, new_centroids)\n",
        "  return new_centroids, predicted_cluster\n",
        "\n",
        "def calc_matrices(data_list):\n",
        "\n",
        "  W = np.empty((len(data_list), len(data_list)), dtype = 'float')\n",
        "  for i in range(len(data_list)):\n",
        "    for j in range(len(data_list)):\n",
        "      W[i, j] = np.exp(-(np.sqrt(np.sum((data_list[i] - data_list[j])**2)))**2 / 2)\n",
        "      if i == j:\n",
        "        W[i, j] = 0\n",
        "\n",
        "  D = np.diag(W.sum(axis = 1))\n",
        "  L = D - W\n",
        "  e, v = np.linalg.eig(L)\n",
        "  index_sorted_eig = np.argsort(e)[:3]\n",
        "  H = v[:,index_sorted_eig]\n",
        "\n",
        "  return H\n"
      ],
      "execution_count": null,
      "outputs": []
    },
    {
      "cell_type": "code",
      "metadata": {
        "id": "hNFwAXpDOTAa"
      },
      "source": [
        "def reconstruction_error(U, data_reduced_dim):\n",
        "  reconstructed_data = np.matmul(U, data_reduced_dim)\n",
        "  error = np.linalg.norm(data - reconstructed_data)**2\n",
        "  print('Reconstruction Error:', error)"
      ],
      "execution_count": null,
      "outputs": []
    },
    {
      "cell_type": "markdown",
      "metadata": {
        "id": "i6vnsimBgLqx"
      },
      "source": [
        "Applying Spectral Clustering on Ground Truth"
      ]
    },
    {
      "cell_type": "code",
      "metadata": {
        "colab": {
          "base_uri": "https://localhost:8080/"
        },
        "id": "-RpuDDUMQ_pm",
        "outputId": "e95f7e09-6776-42a2-9585-aeac461e1d92"
      },
      "source": [
        "print('------Accuracy without PCA------')\n",
        "H = calc_matrices(data.T)\n",
        "new_centroids_spc, predicted_cluster_spc = pred_k_means(H)\n",
        "accuracy = overall_accuracy(predicted_cluster_spc)"
      ],
      "execution_count": null,
      "outputs": [
        {
          "output_type": "stream",
          "text": [
            "------Accuracy without PCA------\n",
            "Accuracy :  0.64\n"
          ],
          "name": "stdout"
        }
      ]
    },
    {
      "cell_type": "markdown",
      "metadata": {
        "id": "hzEFplBZhu7Q"
      },
      "source": [
        "PCA with 1 dimension\n"
      ]
    },
    {
      "cell_type": "code",
      "metadata": {
        "colab": {
          "base_uri": "https://localhost:8080/"
        },
        "id": "D1EPlKEmh0aR",
        "outputId": "dc2e14e9-f8c0-4d9b-b826-5118072e0eb8"
      },
      "source": [
        "print('------PCA with 1 dimension------')\n",
        "U1 = pca(data, 1)\n",
        "data_reduced_dim = np.matmul(U1.T, data)\n",
        "H1 = calc_matrices(data_reduced_dim.T)\n",
        "new_centroids_spc1, predicted_cluster_spc1 = pred_k_means(H1)\n",
        "overall_accuracy(predicted_cluster_spc1)\n",
        "reconstruction_error(U1, data_reduced_dim)\n"
      ],
      "execution_count": null,
      "outputs": [
        {
          "output_type": "stream",
          "text": [
            "------PCA with 1 dimension------\n",
            "Accuracy :  0.0\n",
            "Reconstruction Error: 329.6694039329031\n"
          ],
          "name": "stdout"
        }
      ]
    },
    {
      "cell_type": "markdown",
      "metadata": {
        "id": "dC2YeKtahc3B"
      },
      "source": [
        "PCA with 2 dimension"
      ]
    },
    {
      "cell_type": "code",
      "metadata": {
        "id": "finXhTBEcLB0",
        "colab": {
          "base_uri": "https://localhost:8080/"
        },
        "outputId": "50e06df9-e831-4a5f-c814-3c7055319a47"
      },
      "source": [
        "print('------PCA with 2 dimension------')\n",
        "U2 = pca(data, 2)\n",
        "data_reduced_dim = np.matmul(U2.T, data)\n",
        "H2 = calc_matrices(data_reduced_dim.T)\n",
        "new_centroids_spc2, predicted_cluster_spc2 = pred_k_means(H2)\n",
        "overall_accuracy(predicted_cluster_spc2)\n",
        "reconstruction_error(U2, data_reduced_dim)"
      ],
      "execution_count": null,
      "outputs": [
        {
          "output_type": "stream",
          "text": [
            "------PCA with 2 dimension------\n",
            "Accuracy :  0.7\n",
            "Reconstruction Error: 15.566331012128215\n"
          ],
          "name": "stdout"
        }
      ]
    },
    {
      "cell_type": "markdown",
      "metadata": {
        "id": "km7kJEyXh_lA"
      },
      "source": [
        "PCA with 3 dimensions"
      ]
    },
    {
      "cell_type": "code",
      "metadata": {
        "colab": {
          "base_uri": "https://localhost:8080/"
        },
        "id": "cr4USsiDh3-Y",
        "outputId": "bb7ecaee-01fa-4bf5-f2c9-06e6f9f09bc7"
      },
      "source": [
        "print('------PCA with 3 dimension------')\n",
        "U3 = pca(data, 3)\n",
        "data_reduced_dim = np.matmul(U3.T, data)\n",
        "H3 = calc_matrices(data_reduced_dim.T)\n",
        "new_centroids_spc3, predicted_cluster_spc3 = pred_k_means(H3)\n",
        "overall_accuracy(predicted_cluster_spc3)\n",
        "reconstruction_error(U3, data_reduced_dim)"
      ],
      "execution_count": null,
      "outputs": [
        {
          "output_type": "stream",
          "text": [
            "------PCA with 3 dimension------\n",
            "Accuracy :  0.6333333333333333\n",
            "Reconstruction Error: 3.5303116664124956\n"
          ],
          "name": "stdout"
        }
      ]
    }
  ]
}